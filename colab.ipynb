!git clone --depth 1 https://github.com/<USER>/my-ai-demo.git
%cd my-ai-demo
!pip install -q -r requirements.txt
!python api_server.py      # ここで ngrok の URL が出る
